{
 "cells": [
  {
   "cell_type": "code",
   "execution_count": 1,
   "metadata": {
    "colab": {
     "base_uri": "https://localhost:8080/"
    },
    "id": "eH6LPJlxjqEN",
    "outputId": "10bd9686-ab87-4f3d-ff89-2ab5f0d34c8d"
   },
   "outputs": [],
   "source": [
    "import pandas as pd\n",
    "import numpy as np\n",
    "import matplotlib.pyplot as plt\n",
    "from sklearn.preprocessing import StandardScaler\n",
    "from sklearn.preprocessing import MinMaxScaler\n",
    "from sklearn.cluster import KMeans\n",
    "import seaborn as sns\n",
    "from numpy.linalg import norm\n",
    "from sklearn.model_selection import train_test_split\n",
    "from catboost import CatBoostRegressor"
   ]
  },
  {
   "cell_type": "code",
   "execution_count": 2,
   "metadata": {
    "id": "IZrNiSG6kOCK"
   },
   "outputs": [],
   "source": [
    "data = pd.read_csv('telco.csv')"
   ]
  },
  {
   "cell_type": "code",
   "execution_count": 3,
   "metadata": {
    "id": "q3W4NrPikQoh"
   },
   "outputs": [],
   "source": [
    "num_col = []\n",
    "cat_col = []\n",
    "def col_assign(datas):\n",
    "    for i in datas.columns:\n",
    "        if datas[i].dtypes == 'float':\n",
    "            datas[i] = datas[i].fillna(data[i].mean())\n",
    "            num_col.append(i)\n",
    "        else:\n",
    "            datas[i] = datas[i].fillna(data[i].mode()[0])\n",
    "            cat_col.append(i)\n",
    "\n",
    "    return \n",
    "col_assign(data)\n"
   ]
  },
  {
   "cell_type": "code",
   "execution_count": 4,
   "metadata": {
    "id": "EYVCUvGxkTgJ"
   },
   "outputs": [],
   "source": [
    "def standard_scale(datas, col_names):\n",
    "    from sklearn.preprocessing import StandardScaler\n",
    "    scaler = StandardScaler()\n",
    "    datas[col_names] = scaler.fit_transform(datas[col_names])"
   ]
  },
  {
   "cell_type": "code",
   "execution_count": 5,
   "metadata": {
    "id": "rhw9lbrakTi9"
   },
   "outputs": [],
   "source": [
    "km = KMeans(n_clusters=3,)"
   ]
  },
  {
   "cell_type": "code",
   "execution_count": 6,
   "metadata": {
    "id": "9j7TUbF1mnzX"
   },
   "outputs": [],
   "source": [
    "data['Session frequency'] = data.groupby(['Bearer Id'])['Dur. (ms)'].transform('count')"
   ]
  },
  {
   "cell_type": "code",
   "execution_count": 7,
   "metadata": {
    "id": "ks1dsF3hnoQg"
   },
   "outputs": [],
   "source": [
    "data['Total_Data_Volume(Bytes)'] = data['Total DL (Bytes)'] + data['Total UL (Bytes)']"
   ]
  },
  {
   "cell_type": "code",
   "execution_count": 8,
   "metadata": {
    "colab": {
     "base_uri": "https://localhost:8080/"
    },
    "id": "cJBqI75ooXgN",
    "outputId": "0efdd010-66ad-4246-a04d-fb6d512122ac"
   },
   "outputs": [
    {
     "name": "stdout",
     "output_type": "stream",
     "text": [
      "<class 'pandas.core.frame.DataFrame'>\n",
      "RangeIndex: 150001 entries, 0 to 150000\n",
      "Data columns (total 57 columns):\n",
      " #   Column                                    Non-Null Count   Dtype  \n",
      "---  ------                                    --------------   -----  \n",
      " 0   Bearer Id                                 150001 non-null  float64\n",
      " 1   Start                                     150001 non-null  object \n",
      " 2   Start ms                                  150001 non-null  float64\n",
      " 3   End                                       150001 non-null  object \n",
      " 4   End ms                                    150001 non-null  float64\n",
      " 5   Dur. (ms)                                 150001 non-null  float64\n",
      " 6   IMSI                                      150001 non-null  float64\n",
      " 7   MSISDN/Number                             150001 non-null  float64\n",
      " 8   IMEI                                      150001 non-null  float64\n",
      " 9   Last Location Name                        150001 non-null  object \n",
      " 10  Avg RTT DL (ms)                           150001 non-null  float64\n",
      " 11  Avg RTT UL (ms)                           150001 non-null  float64\n",
      " 12  Avg Bearer TP DL (kbps)                   150001 non-null  float64\n",
      " 13  Avg Bearer TP UL (kbps)                   150001 non-null  float64\n",
      " 14  TCP DL Retrans. Vol (Bytes)               150001 non-null  float64\n",
      " 15  TCP UL Retrans. Vol (Bytes)               150001 non-null  float64\n",
      " 16  DL TP < 50 Kbps (%)                       150001 non-null  float64\n",
      " 17  50 Kbps < DL TP < 250 Kbps (%)            150001 non-null  float64\n",
      " 18  250 Kbps < DL TP < 1 Mbps (%)             150001 non-null  float64\n",
      " 19  DL TP > 1 Mbps (%)                        150001 non-null  float64\n",
      " 20  UL TP < 10 Kbps (%)                       150001 non-null  float64\n",
      " 21  10 Kbps < UL TP < 50 Kbps (%)             150001 non-null  float64\n",
      " 22  50 Kbps < UL TP < 300 Kbps (%)            150001 non-null  float64\n",
      " 23  UL TP > 300 Kbps (%)                      150001 non-null  float64\n",
      " 24  HTTP DL (Bytes)                           150001 non-null  float64\n",
      " 25  HTTP UL (Bytes)                           150001 non-null  float64\n",
      " 26  Activity Duration DL (ms)                 150001 non-null  float64\n",
      " 27  Activity Duration UL (ms)                 150001 non-null  float64\n",
      " 28  Dur. (ms).1                               150001 non-null  float64\n",
      " 29  Handset Manufacturer                      150001 non-null  object \n",
      " 30  Handset Type                              150001 non-null  object \n",
      " 31  Nb of sec with 125000B < Vol DL           150001 non-null  float64\n",
      " 32  Nb of sec with 1250B < Vol UL < 6250B     150001 non-null  float64\n",
      " 33  Nb of sec with 31250B < Vol DL < 125000B  150001 non-null  float64\n",
      " 34  Nb of sec with 37500B < Vol UL            150001 non-null  float64\n",
      " 35  Nb of sec with 6250B < Vol DL < 31250B    150001 non-null  float64\n",
      " 36  Nb of sec with 6250B < Vol UL < 37500B    150001 non-null  float64\n",
      " 37  Nb of sec with Vol DL < 6250B             150001 non-null  float64\n",
      " 38  Nb of sec with Vol UL < 1250B             150001 non-null  float64\n",
      " 39  Social Media DL (Bytes)                   150001 non-null  float64\n",
      " 40  Social Media UL (Bytes)                   150001 non-null  float64\n",
      " 41  Google DL (Bytes)                         150001 non-null  float64\n",
      " 42  Google UL (Bytes)                         150001 non-null  float64\n",
      " 43  Email DL (Bytes)                          150001 non-null  float64\n",
      " 44  Email UL (Bytes)                          150001 non-null  float64\n",
      " 45  Youtube DL (Bytes)                        150001 non-null  float64\n",
      " 46  Youtube UL (Bytes)                        150001 non-null  float64\n",
      " 47  Netflix DL (Bytes)                        150001 non-null  float64\n",
      " 48  Netflix UL (Bytes)                        150001 non-null  float64\n",
      " 49  Gaming DL (Bytes)                         150001 non-null  float64\n",
      " 50  Gaming UL (Bytes)                         150001 non-null  float64\n",
      " 51  Other DL (Bytes)                          150001 non-null  float64\n",
      " 52  Other UL (Bytes)                          150001 non-null  float64\n",
      " 53  Total UL (Bytes)                          150001 non-null  float64\n",
      " 54  Total DL (Bytes)                          150001 non-null  float64\n",
      " 55  Session frequency                         150001 non-null  int64  \n",
      " 56  Total_Data_Volume(Bytes)                  150001 non-null  float64\n",
      "dtypes: float64(51), int64(1), object(5)\n",
      "memory usage: 65.2+ MB\n"
     ]
    }
   ],
   "source": [
    "data.info()"
   ]
  },
  {
   "cell_type": "code",
   "execution_count": 9,
   "metadata": {
    "id": "VVF3H77vm5p3"
   },
   "outputs": [],
   "source": [
    "df = pd.DataFrame()\n",
    "df['Session frequency'] = data['Session frequency']\n",
    "df[\"Total_Data\"] = data['Total_Data_Volume(Bytes)']\n",
    "df['Dur. (ms)'] = data['Bearer Id']"
   ]
  },
  {
   "cell_type": "code",
   "execution_count": 10,
   "metadata": {
    "id": "n4Be9Nawqk0J"
   },
   "outputs": [],
   "source": [
    "standard_scale(df, ['Session frequency', 'Dur. (ms)', 'Total_Data'])"
   ]
  },
  {
   "cell_type": "code",
   "execution_count": 11,
   "metadata": {
    "colab": {
     "base_uri": "https://localhost:8080/"
    },
    "id": "63BhoaLxkd9N",
    "outputId": "5360e2c0-4e55-4ec1-d5b2-fc14b406aeb0"
   },
   "outputs": [
    {
     "data": {
      "text/plain": [
       "array([1, 1, 1, ..., 1, 1, 2])"
      ]
     },
     "execution_count": 11,
     "metadata": {},
     "output_type": "execute_result"
    }
   ],
   "source": [
    "prediction = km.fit_predict(df[['Total_Data', 'Dur. (ms)', 'Session frequency']])\n",
    "prediction"
   ]
  },
  {
   "cell_type": "code",
   "execution_count": 12,
   "metadata": {
    "id": "NTuq-n_ckgj-"
   },
   "outputs": [],
   "source": [
    "df['cluster'] = prediction \n",
    "\n",
    "df1 = df[df.cluster==0]\n",
    "df2 = df[df.cluster==1]\n",
    "df3 = df[df.cluster==2]"
   ]
  },
  {
   "cell_type": "code",
   "execution_count": 13,
   "metadata": {
    "colab": {
     "base_uri": "https://localhost:8080/"
    },
    "id": "fnhEtQmbprxj",
    "outputId": "d2bb126d-cc5a-48ab-f8b8-777e29ddc81a"
   },
   "outputs": [
    {
     "data": {
      "text/plain": [
       "0    75566\n",
       "1    73444\n",
       "2      991\n",
       "Name: cluster, dtype: int64"
      ]
     },
     "execution_count": 13,
     "metadata": {},
     "output_type": "execute_result"
    }
   ],
   "source": [
    "df['cluster'].value_counts()"
   ]
  },
  {
   "cell_type": "code",
   "execution_count": 14,
   "metadata": {
    "colab": {
     "base_uri": "https://localhost:8080/",
     "height": 457
    },
    "id": "Ti4IjkHfohia",
    "outputId": "6352fe48-bd3c-4256-ca91-1a501bdb414e"
   },
   "outputs": [
    {
     "data": {
      "text/html": [
       "<div>\n",
       "<style scoped>\n",
       "    .dataframe tbody tr th:only-of-type {\n",
       "        vertical-align: middle;\n",
       "    }\n",
       "\n",
       "    .dataframe tbody tr th {\n",
       "        vertical-align: top;\n",
       "    }\n",
       "\n",
       "    .dataframe thead th {\n",
       "        text-align: right;\n",
       "    }\n",
       "</style>\n",
       "<table border=\"1\" class=\"dataframe\">\n",
       "  <thead>\n",
       "    <tr style=\"text-align: right;\">\n",
       "      <th></th>\n",
       "      <th>Avg RTT DL (ms)</th>\n",
       "      <th>Avg RTT UL (ms)</th>\n",
       "      <th>TCP DL Retrans. Vol (Bytes)</th>\n",
       "      <th>TCP UL Retrans. Vol (Bytes)</th>\n",
       "      <th>Avg Bearer TP DL (kbps)</th>\n",
       "      <th>Avg Bearer TP UL (kbps)</th>\n",
       "    </tr>\n",
       "  </thead>\n",
       "  <tbody>\n",
       "    <tr>\n",
       "      <th>0</th>\n",
       "      <td>42.000000</td>\n",
       "      <td>5.000000</td>\n",
       "      <td>2.080991e+07</td>\n",
       "      <td>759658.664811</td>\n",
       "      <td>23.000000</td>\n",
       "      <td>44.000000</td>\n",
       "    </tr>\n",
       "    <tr>\n",
       "      <th>1</th>\n",
       "      <td>65.000000</td>\n",
       "      <td>5.000000</td>\n",
       "      <td>2.080991e+07</td>\n",
       "      <td>759658.664811</td>\n",
       "      <td>16.000000</td>\n",
       "      <td>26.000000</td>\n",
       "    </tr>\n",
       "    <tr>\n",
       "      <th>2</th>\n",
       "      <td>109.795706</td>\n",
       "      <td>17.662883</td>\n",
       "      <td>2.080991e+07</td>\n",
       "      <td>759658.664811</td>\n",
       "      <td>6.000000</td>\n",
       "      <td>9.000000</td>\n",
       "    </tr>\n",
       "    <tr>\n",
       "      <th>3</th>\n",
       "      <td>109.795706</td>\n",
       "      <td>17.662883</td>\n",
       "      <td>2.080991e+07</td>\n",
       "      <td>759658.664811</td>\n",
       "      <td>44.000000</td>\n",
       "      <td>44.000000</td>\n",
       "    </tr>\n",
       "    <tr>\n",
       "      <th>4</th>\n",
       "      <td>109.795706</td>\n",
       "      <td>17.662883</td>\n",
       "      <td>2.080991e+07</td>\n",
       "      <td>759658.664811</td>\n",
       "      <td>6.000000</td>\n",
       "      <td>9.000000</td>\n",
       "    </tr>\n",
       "    <tr>\n",
       "      <th>...</th>\n",
       "      <td>...</td>\n",
       "      <td>...</td>\n",
       "      <td>...</td>\n",
       "      <td>...</td>\n",
       "      <td>...</td>\n",
       "      <td>...</td>\n",
       "    </tr>\n",
       "    <tr>\n",
       "      <th>149996</th>\n",
       "      <td>32.000000</td>\n",
       "      <td>0.000000</td>\n",
       "      <td>2.080991e+07</td>\n",
       "      <td>759658.664811</td>\n",
       "      <td>52.000000</td>\n",
       "      <td>65.000000</td>\n",
       "    </tr>\n",
       "    <tr>\n",
       "      <th>149997</th>\n",
       "      <td>27.000000</td>\n",
       "      <td>2.000000</td>\n",
       "      <td>2.080991e+07</td>\n",
       "      <td>759658.664811</td>\n",
       "      <td>23.000000</td>\n",
       "      <td>54.000000</td>\n",
       "    </tr>\n",
       "    <tr>\n",
       "      <th>149998</th>\n",
       "      <td>43.000000</td>\n",
       "      <td>6.000000</td>\n",
       "      <td>2.080991e+07</td>\n",
       "      <td>759658.664811</td>\n",
       "      <td>43.000000</td>\n",
       "      <td>47.000000</td>\n",
       "    </tr>\n",
       "    <tr>\n",
       "      <th>149999</th>\n",
       "      <td>37.000000</td>\n",
       "      <td>5.000000</td>\n",
       "      <td>2.080991e+07</td>\n",
       "      <td>759658.664811</td>\n",
       "      <td>34.000000</td>\n",
       "      <td>37.000000</td>\n",
       "    </tr>\n",
       "    <tr>\n",
       "      <th>150000</th>\n",
       "      <td>109.795706</td>\n",
       "      <td>17.662883</td>\n",
       "      <td>2.080991e+07</td>\n",
       "      <td>759658.664811</td>\n",
       "      <td>13300.045927</td>\n",
       "      <td>1770.428647</td>\n",
       "    </tr>\n",
       "  </tbody>\n",
       "</table>\n",
       "<p>150001 rows × 6 columns</p>\n",
       "</div>"
      ],
      "text/plain": [
       "        Avg RTT DL (ms)  Avg RTT UL (ms)  TCP DL Retrans. Vol (Bytes)  \\\n",
       "0             42.000000         5.000000                 2.080991e+07   \n",
       "1             65.000000         5.000000                 2.080991e+07   \n",
       "2            109.795706        17.662883                 2.080991e+07   \n",
       "3            109.795706        17.662883                 2.080991e+07   \n",
       "4            109.795706        17.662883                 2.080991e+07   \n",
       "...                 ...              ...                          ...   \n",
       "149996        32.000000         0.000000                 2.080991e+07   \n",
       "149997        27.000000         2.000000                 2.080991e+07   \n",
       "149998        43.000000         6.000000                 2.080991e+07   \n",
       "149999        37.000000         5.000000                 2.080991e+07   \n",
       "150000       109.795706        17.662883                 2.080991e+07   \n",
       "\n",
       "        TCP UL Retrans. Vol (Bytes)  Avg Bearer TP DL (kbps)  \\\n",
       "0                     759658.664811                23.000000   \n",
       "1                     759658.664811                16.000000   \n",
       "2                     759658.664811                 6.000000   \n",
       "3                     759658.664811                44.000000   \n",
       "4                     759658.664811                 6.000000   \n",
       "...                             ...                      ...   \n",
       "149996                759658.664811                52.000000   \n",
       "149997                759658.664811                23.000000   \n",
       "149998                759658.664811                43.000000   \n",
       "149999                759658.664811                34.000000   \n",
       "150000                759658.664811             13300.045927   \n",
       "\n",
       "        Avg Bearer TP UL (kbps)  \n",
       "0                     44.000000  \n",
       "1                     26.000000  \n",
       "2                      9.000000  \n",
       "3                     44.000000  \n",
       "4                      9.000000  \n",
       "...                         ...  \n",
       "149996                65.000000  \n",
       "149997                54.000000  \n",
       "149998                47.000000  \n",
       "149999                37.000000  \n",
       "150000              1770.428647  \n",
       "\n",
       "[150001 rows x 6 columns]"
      ]
     },
     "execution_count": 14,
     "metadata": {},
     "output_type": "execute_result"
    }
   ],
   "source": [
    "def fix_outlier(df, column):\n",
    "    df[column] = np.where(df[column]>df[column].quantile(0.95),\n",
    "                         df[column].mean(),\n",
    "                         df[column])\n",
    "    return df[column]\n",
    "fix_outlier(data,['Avg RTT DL (ms)', 'Avg RTT UL (ms)','TCP DL Retrans. Vol (Bytes)','TCP UL Retrans. Vol (Bytes)','Avg Bearer TP DL (kbps)','Avg Bearer TP UL (kbps)'])\n"
   ]
  },
  {
   "cell_type": "code",
   "execution_count": 15,
   "metadata": {
    "id": "96BJjcORqAgv"
   },
   "outputs": [],
   "source": [
    "new_data = pd.DataFrame()\n",
    "new_data['Avg_RTT'] = data['Avg RTT DL (ms)'] + data['Avg RTT UL (ms)']\n",
    "new_data['Avg TCP'] = data['TCP DL Retrans. Vol (Bytes)'] + data['TCP UL Retrans. Vol (Bytes)']\n",
    "new_data['Handset_type'] = data['Handset Type']\n",
    "new_data['Avg TP'] = data['Avg Bearer TP DL (kbps)']  + data['Avg Bearer TP UL (kbps)']\n",
    "new_data['MSISDN'] = data['MSISDN/Number']"
   ]
  },
  {
   "cell_type": "code",
   "execution_count": 16,
   "metadata": {
    "id": "6pltfItabkrn"
   },
   "outputs": [],
   "source": [
    "num_col = []\n",
    "cat_col = []\n",
    "def col_assign(df):\n",
    "    for i in df.columns:\n",
    "        if df[i].dtypes == 'float':\n",
    "            df[i] = df[i].fillna(df[i].mean())\n",
    "            num_col.append(i)\n",
    "        else:\n",
    "            df[i] = df[i].fillna(df[i].mode()[0])\n",
    "            cat_col.append(i)\n",
    "col_assign(new_data)"
   ]
  },
  {
   "cell_type": "code",
   "execution_count": 17,
   "metadata": {
    "id": "dUMFYpZIZ0iO"
   },
   "outputs": [],
   "source": [
    "scale = StandardScaler()\n",
    "scaled = ['Avg TCP','Avg_RTT', 'Avg TP' ]\n",
    "new_data[scaled] = scale.fit_transform(new_data[scaled])"
   ]
  },
  {
   "cell_type": "code",
   "execution_count": null,
   "metadata": {
    "id": "63eskpAJag0k"
   },
   "outputs": [],
   "source": []
  },
  {
   "cell_type": "code",
   "execution_count": 18,
   "metadata": {
    "colab": {
     "base_uri": "https://localhost:8080/",
     "height": 423
    },
    "id": "TRj-HJpJahBU",
    "outputId": "993beaaf-3db1-493d-c341-28cececcd5b6"
   },
   "outputs": [
    {
     "data": {
      "text/html": [
       "<div>\n",
       "<style scoped>\n",
       "    .dataframe tbody tr th:only-of-type {\n",
       "        vertical-align: middle;\n",
       "    }\n",
       "\n",
       "    .dataframe tbody tr th {\n",
       "        vertical-align: top;\n",
       "    }\n",
       "\n",
       "    .dataframe thead th {\n",
       "        text-align: right;\n",
       "    }\n",
       "</style>\n",
       "<table border=\"1\" class=\"dataframe\">\n",
       "  <thead>\n",
       "    <tr style=\"text-align: right;\">\n",
       "      <th></th>\n",
       "      <th>Avg_RTT</th>\n",
       "      <th>Avg TCP</th>\n",
       "      <th>Handset_type</th>\n",
       "      <th>Avg TP</th>\n",
       "      <th>MSISDN</th>\n",
       "    </tr>\n",
       "  </thead>\n",
       "  <tbody>\n",
       "    <tr>\n",
       "      <th>0</th>\n",
       "      <td>-0.703698</td>\n",
       "      <td>0.761222</td>\n",
       "      <td>Samsung Galaxy A5 Sm-A520F</td>\n",
       "      <td>-0.627855</td>\n",
       "      <td>3.366496e+10</td>\n",
       "    </tr>\n",
       "    <tr>\n",
       "      <th>1</th>\n",
       "      <td>-0.185776</td>\n",
       "      <td>0.761222</td>\n",
       "      <td>Samsung Galaxy J5 (Sm-J530)</td>\n",
       "      <td>-0.629366</td>\n",
       "      <td>3.368185e+10</td>\n",
       "    </tr>\n",
       "    <tr>\n",
       "      <th>2</th>\n",
       "      <td>1.108095</td>\n",
       "      <td>0.761222</td>\n",
       "      <td>Samsung Galaxy A8 (2018)</td>\n",
       "      <td>-0.630997</td>\n",
       "      <td>3.376063e+10</td>\n",
       "    </tr>\n",
       "    <tr>\n",
       "      <th>3</th>\n",
       "      <td>1.108095</td>\n",
       "      <td>0.761222</td>\n",
       "      <td>undefined</td>\n",
       "      <td>-0.626586</td>\n",
       "      <td>3.375034e+10</td>\n",
       "    </tr>\n",
       "    <tr>\n",
       "      <th>4</th>\n",
       "      <td>1.108095</td>\n",
       "      <td>0.761222</td>\n",
       "      <td>Samsung Sm-G390F</td>\n",
       "      <td>-0.630997</td>\n",
       "      <td>3.369980e+10</td>\n",
       "    </tr>\n",
       "    <tr>\n",
       "      <th>...</th>\n",
       "      <td>...</td>\n",
       "      <td>...</td>\n",
       "      <td>...</td>\n",
       "      <td>...</td>\n",
       "      <td>...</td>\n",
       "    </tr>\n",
       "    <tr>\n",
       "      <th>149996</th>\n",
       "      <td>-1.041473</td>\n",
       "      <td>0.761222</td>\n",
       "      <td>Apple iPhone 8 Plus (A1897)</td>\n",
       "      <td>-0.624834</td>\n",
       "      <td>3.365069e+10</td>\n",
       "    </tr>\n",
       "    <tr>\n",
       "      <th>149997</th>\n",
       "      <td>-1.109028</td>\n",
       "      <td>0.761222</td>\n",
       "      <td>Apple iPhone Se (A1723)</td>\n",
       "      <td>-0.627251</td>\n",
       "      <td>3.366345e+10</td>\n",
       "    </tr>\n",
       "    <tr>\n",
       "      <th>149998</th>\n",
       "      <td>-0.658661</td>\n",
       "      <td>0.761222</td>\n",
       "      <td>Apple iPhone Xs (A2097)</td>\n",
       "      <td>-0.626466</td>\n",
       "      <td>3.362189e+10</td>\n",
       "    </tr>\n",
       "    <tr>\n",
       "      <th>149999</th>\n",
       "      <td>-0.816290</td>\n",
       "      <td>0.761222</td>\n",
       "      <td>Huawei Fig-Lx1</td>\n",
       "      <td>-0.627614</td>\n",
       "      <td>3.361962e+10</td>\n",
       "    </tr>\n",
       "    <tr>\n",
       "      <th>150000</th>\n",
       "      <td>1.108095</td>\n",
       "      <td>0.761222</td>\n",
       "      <td>Huawei B528S-23A</td>\n",
       "      <td>0.278685</td>\n",
       "      <td>4.188282e+10</td>\n",
       "    </tr>\n",
       "  </tbody>\n",
       "</table>\n",
       "<p>150001 rows × 5 columns</p>\n",
       "</div>"
      ],
      "text/plain": [
       "         Avg_RTT   Avg TCP                 Handset_type    Avg TP  \\\n",
       "0      -0.703698  0.761222   Samsung Galaxy A5 Sm-A520F -0.627855   \n",
       "1      -0.185776  0.761222  Samsung Galaxy J5 (Sm-J530) -0.629366   \n",
       "2       1.108095  0.761222     Samsung Galaxy A8 (2018) -0.630997   \n",
       "3       1.108095  0.761222                    undefined -0.626586   \n",
       "4       1.108095  0.761222             Samsung Sm-G390F -0.630997   \n",
       "...          ...       ...                          ...       ...   \n",
       "149996 -1.041473  0.761222  Apple iPhone 8 Plus (A1897) -0.624834   \n",
       "149997 -1.109028  0.761222      Apple iPhone Se (A1723) -0.627251   \n",
       "149998 -0.658661  0.761222      Apple iPhone Xs (A2097) -0.626466   \n",
       "149999 -0.816290  0.761222               Huawei Fig-Lx1 -0.627614   \n",
       "150000  1.108095  0.761222             Huawei B528S-23A  0.278685   \n",
       "\n",
       "              MSISDN  \n",
       "0       3.366496e+10  \n",
       "1       3.368185e+10  \n",
       "2       3.376063e+10  \n",
       "3       3.375034e+10  \n",
       "4       3.369980e+10  \n",
       "...              ...  \n",
       "149996  3.365069e+10  \n",
       "149997  3.366345e+10  \n",
       "149998  3.362189e+10  \n",
       "149999  3.361962e+10  \n",
       "150000  4.188282e+10  \n",
       "\n",
       "[150001 rows x 5 columns]"
      ]
     },
     "execution_count": 18,
     "metadata": {},
     "output_type": "execute_result"
    }
   ],
   "source": [
    "new_data"
   ]
  },
  {
   "cell_type": "code",
   "execution_count": 19,
   "metadata": {
    "colab": {
     "base_uri": "https://localhost:8080/"
    },
    "id": "OnQDoqxQSFVj",
    "outputId": "8c8b0694-aa66-4308-ba1a-7e5d0cd67cd4"
   },
   "outputs": [
    {
     "data": {
      "text/plain": [
       "array([1, 1, 2, ..., 1, 1, 2])"
      ]
     },
     "execution_count": 19,
     "metadata": {},
     "output_type": "execute_result"
    }
   ],
   "source": [
    "prediction = km.fit_predict(new_data[['Avg_RTT', 'Avg TCP','Avg TP']])\n",
    "prediction"
   ]
  },
  {
   "cell_type": "code",
   "execution_count": 20,
   "metadata": {
    "id": "Q_EkZ4k1WxAv"
   },
   "outputs": [],
   "source": [
    "new_data['cluster'] = prediction \n",
    "\n",
    "cluster_1 = new_data[new_data.cluster==0]\n",
    "cluster_2 = new_data[new_data.cluster==1]\n",
    "cluster_3 = new_data[new_data.cluster==2]"
   ]
  },
  {
   "cell_type": "code",
   "execution_count": 21,
   "metadata": {
    "colab": {
     "base_uri": "https://localhost:8080/"
    },
    "id": "41lOhlu6Y6Q_",
    "outputId": "65046d8c-2515-4a18-c97a-9a362e60f403"
   },
   "outputs": [
    {
     "data": {
      "text/plain": [
       "1    58334\n",
       "0    53930\n",
       "2    37737\n",
       "Name: cluster, dtype: int64"
      ]
     },
     "execution_count": 21,
     "metadata": {},
     "output_type": "execute_result"
    }
   ],
   "source": [
    "new_data['cluster'].value_counts()"
   ]
  },
  {
   "cell_type": "code",
   "execution_count": 22,
   "metadata": {
    "colab": {
     "base_uri": "https://localhost:8080/"
    },
    "id": "MY-a1I6GcmzK",
    "outputId": "66d21f62-1747-424f-871f-0bede3ca1e40"
   },
   "outputs": [
    {
     "name": "stderr",
     "output_type": "stream",
     "text": [
      "<ipython-input-22-b5910db76030>:1: SettingWithCopyWarning: \n",
      "A value is trying to be set on a copy of a slice from a DataFrame.\n",
      "Try using .loc[row_indexer,col_indexer] = value instead\n",
      "\n",
      "See the caveats in the documentation: https://pandas.pydata.org/pandas-docs/stable/user_guide/indexing.html#returning-a-view-versus-a-copy\n",
      "  cluster_1['Experience_score'] =np.sqrt(((cluster_1['Avg_RTT'] +cluster_1['Avg TCP'] + cluster_1['Avg TP']).pow(2)) - (cluster_1['cluster'].pow(2)))\n"
     ]
    }
   ],
   "source": [
    "cluster_1['Experience_score'] =np.sqrt(((cluster_1['Avg_RTT'] +cluster_1['Avg TCP'] + cluster_1['Avg TP']).pow(2)) - (cluster_1['cluster'].pow(2)))"
   ]
  },
  {
   "cell_type": "code",
   "execution_count": 23,
   "metadata": {
    "colab": {
     "base_uri": "https://localhost:8080/"
    },
    "id": "gk2ftu3vZcB8",
    "outputId": "d513a54a-1fc0-4e62-f7bb-c2faf02ebf69"
   },
   "outputs": [
    {
     "name": "stderr",
     "output_type": "stream",
     "text": [
      "<ipython-input-23-43418b0901a1>:1: SettingWithCopyWarning: \n",
      "A value is trying to be set on a copy of a slice from a DataFrame.\n",
      "Try using .loc[row_indexer,col_indexer] = value instead\n",
      "\n",
      "See the caveats in the documentation: https://pandas.pydata.org/pandas-docs/stable/user_guide/indexing.html#returning-a-view-versus-a-copy\n",
      "  df3['Engagement_score'] =np.sqrt(((df3['Total_Data'] +df3['Dur. (ms)'] + df3['Session frequency']).pow(2)) - (df3['cluster'].pow(2)))\n"
     ]
    }
   ],
   "source": [
    "df3['Engagement_score'] =np.sqrt(((df3['Total_Data'] +df3['Dur. (ms)'] + df3['Session frequency']).pow(2)) - (df3['cluster'].pow(2)))"
   ]
  },
  {
   "cell_type": "code",
   "execution_count": 24,
   "metadata": {
    "colab": {
     "base_uri": "https://localhost:8080/"
    },
    "id": "0YT4tZ_rdQcB",
    "outputId": "6b8c853d-5f24-4b24-d082-439ce2e10831"
   },
   "outputs": [
    {
     "data": {
      "text/plain": [
       "12.898210    1\n",
       "12.457217    1\n",
       "12.137628    1\n",
       "11.422840    1\n",
       "13.247789    1\n",
       "            ..\n",
       "10.780354    1\n",
       "11.341927    1\n",
       "10.474805    1\n",
       "10.610531    1\n",
       "10.659159    1\n",
       "Name: Engagement_score, Length: 991, dtype: int64"
      ]
     },
     "execution_count": 24,
     "metadata": {},
     "output_type": "execute_result"
    }
   ],
   "source": [
    "df3['Engagement_score'].value_counts()"
   ]
  },
  {
   "cell_type": "code",
   "execution_count": 25,
   "metadata": {
    "colab": {
     "base_uri": "https://localhost:8080/"
    },
    "id": "MnOJU_KAdu8F",
    "outputId": "adaa9f1e-4069-4e89-df83-7c20c821af72"
   },
   "outputs": [
    {
     "data": {
      "text/plain": [
       "3.190714    2\n",
       "0.558300    1\n",
       "1.927727    1\n",
       "1.833762    1\n",
       "0.056785    1\n",
       "           ..\n",
       "1.910367    1\n",
       "0.446203    1\n",
       "1.211142    1\n",
       "1.630222    1\n",
       "1.178758    1\n",
       "Name: Experience_score, Length: 53929, dtype: int64"
      ]
     },
     "execution_count": 25,
     "metadata": {},
     "output_type": "execute_result"
    }
   ],
   "source": [
    "cluster_1['Experience_score'].value_counts()"
   ]
  },
  {
   "cell_type": "code",
   "execution_count": 26,
   "metadata": {
    "id": "bu_XqIOPfIPH"
   },
   "outputs": [],
   "source": [
    "df_data = pd.concat([cluster_1, df3], axis=1,join='inner')"
   ]
  },
  {
   "cell_type": "code",
   "execution_count": 27,
   "metadata": {
    "colab": {
     "base_uri": "https://localhost:8080/"
    },
    "id": "F5dMQBQUtVp-",
    "outputId": "30c96b06-2c52-49f5-bb0f-4e0d2c7f1274"
   },
   "outputs": [
    {
     "name": "stdout",
     "output_type": "stream",
     "text": [
      "<class 'pandas.core.frame.DataFrame'>\n",
      "Int64Index: 616 entries, 463 to 149723\n",
      "Data columns (total 12 columns):\n",
      " #   Column             Non-Null Count  Dtype  \n",
      "---  ------             --------------  -----  \n",
      " 0   Avg_RTT            616 non-null    float64\n",
      " 1   Avg TCP            616 non-null    float64\n",
      " 2   Handset_type       616 non-null    object \n",
      " 3   Avg TP             616 non-null    float64\n",
      " 4   MSISDN             616 non-null    float64\n",
      " 5   cluster            616 non-null    int32  \n",
      " 6   Experience_score   616 non-null    float64\n",
      " 7   Session frequency  616 non-null    float64\n",
      " 8   Total_Data         616 non-null    float64\n",
      " 9   Dur. (ms)          616 non-null    float64\n",
      " 10  cluster            616 non-null    int32  \n",
      " 11  Engagement_score   616 non-null    float64\n",
      "dtypes: float64(9), int32(2), object(1)\n",
      "memory usage: 57.8+ KB\n"
     ]
    }
   ],
   "source": [
    "df_data.info()"
   ]
  },
  {
   "cell_type": "code",
   "execution_count": 28,
   "metadata": {
    "id": "fZ9tCwMTtW-4"
   },
   "outputs": [],
   "source": [
    "df_data['Satisfactory_score']= (df_data['Engagement_score']+ df_data['Experience_score'])/2"
   ]
  },
  {
   "cell_type": "code",
   "execution_count": 29,
   "metadata": {},
   "outputs": [],
   "source": [
    "def minmax_scale(datas, col_names):\n",
    "    scaler = MinMaxScaler(feature_range=(0, 1))\n",
    "    datas[col_names] = scaler.fit_transform(datas[col_names])\n",
    "minmax_scale(df_data, ['Engagement_score', 'Experience_score'])"
   ]
  },
  {
   "cell_type": "code",
   "execution_count": 30,
   "metadata": {
    "id": "h8x77j8Kuxvy"
   },
   "outputs": [],
   "source": [
    "df_data.drop('cluster', axis=1, inplace=True)"
   ]
  },
  {
   "cell_type": "code",
   "execution_count": 31,
   "metadata": {
    "colab": {
     "base_uri": "https://localhost:8080/"
    },
    "id": "6aRVH_8eu1hN",
    "outputId": "a426d61f-96af-4242-ee9c-52d66cd14318"
   },
   "outputs": [
    {
     "name": "stdout",
     "output_type": "stream",
     "text": [
      "<class 'pandas.core.frame.DataFrame'>\n",
      "Int64Index: 616 entries, 463 to 149723\n",
      "Data columns (total 11 columns):\n",
      " #   Column              Non-Null Count  Dtype  \n",
      "---  ------              --------------  -----  \n",
      " 0   Avg_RTT             616 non-null    float64\n",
      " 1   Avg TCP             616 non-null    float64\n",
      " 2   Handset_type        616 non-null    object \n",
      " 3   Avg TP              616 non-null    float64\n",
      " 4   MSISDN              616 non-null    float64\n",
      " 5   Experience_score    616 non-null    float64\n",
      " 6   Session frequency   616 non-null    float64\n",
      " 7   Total_Data          616 non-null    float64\n",
      " 8   Dur. (ms)           616 non-null    float64\n",
      " 9   Engagement_score    616 non-null    float64\n",
      " 10  Satisfactory_score  616 non-null    float64\n",
      "dtypes: float64(10), object(1)\n",
      "memory usage: 57.8+ KB\n"
     ]
    }
   ],
   "source": [
    "df_data.info()"
   ]
  },
  {
   "cell_type": "code",
   "execution_count": 32,
   "metadata": {
    "colab": {
     "base_uri": "https://localhost:8080/"
    },
    "id": "7l3bCEGwu8QF",
    "outputId": "8c171526-969d-4fdc-f20b-cefb2a25ff35"
   },
   "outputs": [
    {
     "data": {
      "text/plain": [
       "91011     9.021257\n",
       "112821    8.431575\n",
       "146672    8.257378\n",
       "121174    8.206033\n",
       "137284    8.180133\n",
       "36568     8.154298\n",
       "15713     8.044080\n",
       "13510     8.021849\n",
       "146599    8.002494\n",
       "97900     7.981732\n",
       "Name: Satisfactory_score, dtype: float64"
      ]
     },
     "execution_count": 32,
     "metadata": {},
     "output_type": "execute_result"
    }
   ],
   "source": [
    "df_data['Satisfactory_score'].nlargest(10)"
   ]
  },
  {
   "cell_type": "code",
   "execution_count": 33,
   "metadata": {
    "id": "OYn55UNPa65r"
   },
   "outputs": [],
   "source": [
    "X = df_data.drop(['Satisfactory_score'], axis=1)\n",
    "y = df_data.Satisfactory_score\n"
   ]
  },
  {
   "cell_type": "code",
   "execution_count": 34,
   "metadata": {
    "colab": {
     "base_uri": "https://localhost:8080/"
    },
    "id": "THVk7wkOzoMf",
    "outputId": "0a724513-c448-4562-80e6-eadbfaa56d9b"
   },
   "outputs": [
    {
     "name": "stdout",
     "output_type": "stream",
     "text": [
      "(492, 10) (124, 10) (492,) (124,)\n"
     ]
    }
   ],
   "source": [
    "X_train, X_val, y_train, y_val = train_test_split(X, y, test_size=0.2, random_state= 0)\n",
    "print(X_train.shape, X_val.shape, y_train.shape, y_val.shape)"
   ]
  },
  {
   "cell_type": "code",
   "execution_count": 35,
   "metadata": {
    "id": "eqy3anEFk0ru"
   },
   "outputs": [
    {
     "name": "stderr",
     "output_type": "stream",
     "text": [
      "<ipython-input-35-636372c33cfd>:1: DeprecationWarning: `np.object` is a deprecated alias for the builtin `object`. To silence this warning, use `object` by itself. Doing this will not modify any behavior and is safe. \n",
      "Deprecated in NumPy 1.20; for more details and guidance: https://numpy.org/devdocs/release/1.20.0-notes.html#deprecations\n",
      "  categorical_features_indices = np.where(X.dtypes == np.object)[0]\n"
     ]
    }
   ],
   "source": [
    "categorical_features_indices = np.where(X.dtypes == np.object)[0]"
   ]
  },
  {
   "cell_type": "code",
   "execution_count": 36,
   "metadata": {
    "colab": {
     "base_uri": "https://localhost:8080/"
    },
    "id": "cEvyHux1jevr",
    "outputId": "b1501c75-7ebe-41a3-9eb4-5b6c71bee32e"
   },
   "outputs": [
    {
     "name": "stdout",
     "output_type": "stream",
     "text": [
      "0:\tlearn: 0.5659777\ttest: 0.5521698\tbest: 0.5521698 (0)\ttotal: 173ms\tremaining: 8.49s\n",
      "1:\tlearn: 0.5245973\ttest: 0.5111507\tbest: 0.5111507 (1)\ttotal: 205ms\tremaining: 4.92s\n",
      "2:\tlearn: 0.4889131\ttest: 0.4732455\tbest: 0.4732455 (2)\ttotal: 231ms\tremaining: 3.62s\n",
      "3:\tlearn: 0.4598017\ttest: 0.4416166\tbest: 0.4416166 (3)\ttotal: 256ms\tremaining: 2.95s\n",
      "4:\tlearn: 0.4311342\ttest: 0.4136871\tbest: 0.4136871 (4)\ttotal: 287ms\tremaining: 2.59s\n",
      "5:\tlearn: 0.4077650\ttest: 0.3872715\tbest: 0.3872715 (5)\ttotal: 323ms\tremaining: 2.37s\n",
      "6:\tlearn: 0.3834809\ttest: 0.3606944\tbest: 0.3606944 (6)\ttotal: 356ms\tremaining: 2.18s\n",
      "7:\tlearn: 0.3579346\ttest: 0.3349292\tbest: 0.3349292 (7)\ttotal: 394ms\tremaining: 2.07s\n",
      "8:\tlearn: 0.3350416\ttest: 0.3125404\tbest: 0.3125404 (8)\ttotal: 432ms\tremaining: 1.97s\n",
      "9:\tlearn: 0.3170874\ttest: 0.2957141\tbest: 0.2957141 (9)\ttotal: 494ms\tremaining: 1.98s\n",
      "10:\tlearn: 0.2982809\ttest: 0.2767856\tbest: 0.2767856 (10)\ttotal: 582ms\tremaining: 2.06s\n",
      "11:\tlearn: 0.2797641\ttest: 0.2561221\tbest: 0.2561221 (11)\ttotal: 657ms\tremaining: 2.08s\n",
      "12:\tlearn: 0.2627642\ttest: 0.2382054\tbest: 0.2382054 (12)\ttotal: 696ms\tremaining: 1.98s\n",
      "13:\tlearn: 0.2478543\ttest: 0.2257839\tbest: 0.2257839 (13)\ttotal: 738ms\tremaining: 1.9s\n",
      "14:\tlearn: 0.2340241\ttest: 0.2121965\tbest: 0.2121965 (14)\ttotal: 806ms\tremaining: 1.88s\n",
      "15:\tlearn: 0.2206437\ttest: 0.1986281\tbest: 0.1986281 (15)\ttotal: 843ms\tremaining: 1.79s\n",
      "16:\tlearn: 0.2085246\ttest: 0.1882550\tbest: 0.1882550 (16)\ttotal: 883ms\tremaining: 1.71s\n",
      "17:\tlearn: 0.1986817\ttest: 0.1787895\tbest: 0.1787895 (17)\ttotal: 922ms\tremaining: 1.64s\n",
      "18:\tlearn: 0.1881412\ttest: 0.1685012\tbest: 0.1685012 (18)\ttotal: 971ms\tremaining: 1.58s\n",
      "19:\tlearn: 0.1786596\ttest: 0.1606856\tbest: 0.1606856 (19)\ttotal: 1s\tremaining: 1.51s\n",
      "20:\tlearn: 0.1706692\ttest: 0.1535361\tbest: 0.1535361 (20)\ttotal: 1.04s\tremaining: 1.44s\n",
      "21:\tlearn: 0.1624265\ttest: 0.1451792\tbest: 0.1451792 (21)\ttotal: 1.09s\tremaining: 1.38s\n",
      "22:\tlearn: 0.1551797\ttest: 0.1391542\tbest: 0.1391542 (22)\ttotal: 1.14s\tremaining: 1.34s\n",
      "23:\tlearn: 0.1478809\ttest: 0.1314631\tbest: 0.1314631 (23)\ttotal: 1.18s\tremaining: 1.28s\n",
      "24:\tlearn: 0.1396632\ttest: 0.1245063\tbest: 0.1245063 (24)\ttotal: 1.22s\tremaining: 1.22s\n",
      "25:\tlearn: 0.1332233\ttest: 0.1194076\tbest: 0.1194076 (25)\ttotal: 1.26s\tremaining: 1.16s\n",
      "26:\tlearn: 0.1272939\ttest: 0.1142261\tbest: 0.1142261 (26)\ttotal: 1.3s\tremaining: 1.1s\n",
      "27:\tlearn: 0.1216104\ttest: 0.1099485\tbest: 0.1099485 (27)\ttotal: 1.33s\tremaining: 1.05s\n",
      "28:\tlearn: 0.1155266\ttest: 0.1052154\tbest: 0.1052154 (28)\ttotal: 1.42s\tremaining: 1.02s\n",
      "29:\tlearn: 0.1112573\ttest: 0.1005942\tbest: 0.1005942 (29)\ttotal: 1.46s\tremaining: 977ms\n",
      "30:\tlearn: 0.1071253\ttest: 0.0979232\tbest: 0.0979232 (30)\ttotal: 1.56s\tremaining: 956ms\n",
      "31:\tlearn: 0.1023241\ttest: 0.0942462\tbest: 0.0942462 (31)\ttotal: 1.67s\tremaining: 941ms\n",
      "32:\tlearn: 0.0980802\ttest: 0.0910181\tbest: 0.0910181 (32)\ttotal: 1.72s\tremaining: 885ms\n",
      "33:\tlearn: 0.0947826\ttest: 0.0880769\tbest: 0.0880769 (33)\ttotal: 1.76s\tremaining: 828ms\n",
      "34:\tlearn: 0.0912672\ttest: 0.0856464\tbest: 0.0856464 (34)\ttotal: 1.8s\tremaining: 774ms\n",
      "35:\tlearn: 0.0885782\ttest: 0.0840758\tbest: 0.0840758 (35)\ttotal: 1.84s\tremaining: 715ms\n",
      "36:\tlearn: 0.0859049\ttest: 0.0815760\tbest: 0.0815760 (36)\ttotal: 1.88s\tremaining: 659ms\n",
      "37:\tlearn: 0.0828977\ttest: 0.0797597\tbest: 0.0797597 (37)\ttotal: 1.91s\tremaining: 603ms\n",
      "38:\tlearn: 0.0799450\ttest: 0.0769039\tbest: 0.0769039 (38)\ttotal: 1.95s\tremaining: 549ms\n",
      "39:\tlearn: 0.0772688\ttest: 0.0749634\tbest: 0.0749634 (39)\ttotal: 1.99s\tremaining: 497ms\n",
      "40:\tlearn: 0.0751009\ttest: 0.0735768\tbest: 0.0735768 (40)\ttotal: 2.02s\tremaining: 445ms\n",
      "41:\tlearn: 0.0741003\ttest: 0.0733941\tbest: 0.0733941 (41)\ttotal: 2.06s\tremaining: 392ms\n",
      "42:\tlearn: 0.0718065\ttest: 0.0715912\tbest: 0.0715912 (42)\ttotal: 2.1s\tremaining: 342ms\n",
      "43:\tlearn: 0.0696056\ttest: 0.0700170\tbest: 0.0700170 (43)\ttotal: 2.14s\tremaining: 291ms\n",
      "44:\tlearn: 0.0681158\ttest: 0.0691291\tbest: 0.0691291 (44)\ttotal: 2.19s\tremaining: 243ms\n",
      "45:\tlearn: 0.0677607\ttest: 0.0691461\tbest: 0.0691291 (44)\ttotal: 2.22s\tremaining: 193ms\n",
      "46:\tlearn: 0.0659774\ttest: 0.0678709\tbest: 0.0678709 (46)\ttotal: 2.26s\tremaining: 144ms\n",
      "47:\tlearn: 0.0655584\ttest: 0.0677982\tbest: 0.0677982 (47)\ttotal: 2.29s\tremaining: 95.6ms\n",
      "48:\tlearn: 0.0641757\ttest: 0.0666977\tbest: 0.0666977 (48)\ttotal: 2.34s\tremaining: 47.8ms\n",
      "49:\tlearn: 0.0623926\ttest: 0.0655189\tbest: 0.0655189 (49)\ttotal: 2.38s\tremaining: 0us\n",
      "\n",
      "bestTest = 0.0655189357\n",
      "bestIteration = 49\n",
      "\n"
     ]
    },
    {
     "data": {
      "text/plain": [
       "<catboost.core.CatBoostRegressor at 0x2151f3606a0>"
      ]
     },
     "execution_count": 36,
     "metadata": {},
     "output_type": "execute_result"
    }
   ],
   "source": [
    "model=CatBoostRegressor(iterations=50, depth=3, learning_rate=0.1)\n",
    "model.fit(X_train, y_train,cat_features=categorical_features_indices,eval_set=(X_val, y_val))"
   ]
  },
  {
   "cell_type": "code",
   "execution_count": 37,
   "metadata": {
    "colab": {
     "base_uri": "https://localhost:8080/"
    },
    "id": "ePBup4jmkAx-",
    "outputId": "0d131395-2bae-486f-d728-12eae2191da5"
   },
   "outputs": [
    {
     "name": "stdout",
     "output_type": "stream",
     "text": [
      "0.9877984992401372\n"
     ]
    }
   ],
   "source": [
    "from sklearn.metrics import r2_score\n",
    "pred = model.predict(X_val)\n",
    "r2 = r2_score(y_val, pred)\n",
    "print(r2)"
   ]
  },
  {
   "cell_type": "code",
   "execution_count": 38,
   "metadata": {
    "colab": {
     "base_uri": "https://localhost:8080/"
    },
    "id": "6bYV-shCmWFP",
    "outputId": "3fce3a6c-f0da-4d89-dcdf-2f19b4e3282a"
   },
   "outputs": [
    {
     "data": {
      "text/plain": [
       "array([6.76993354, 6.76608061, 5.64556823, 6.41555643, 6.4595867 ,\n",
       "       6.25857735, 7.09260733, 6.54853337, 6.21299673, 7.16112593,\n",
       "       7.87536236, 7.13898312, 6.40186155, 5.58615603, 6.78747814,\n",
       "       5.71146009, 6.04740497, 7.23427993, 7.04855437, 6.033422  ,\n",
       "       7.95938512, 6.33790446, 5.66590676, 7.09076966, 6.19711633,\n",
       "       5.54860627, 5.88317836, 7.2002854 , 7.17238072, 6.07498107,\n",
       "       5.76980413, 6.92599606, 7.2549741 , 6.31778365, 7.09821844,\n",
       "       6.51561802, 5.90215022, 6.63542257, 6.63835769, 6.50650685,\n",
       "       6.00073072, 6.33798044, 6.48157496, 7.79456386, 5.78442627,\n",
       "       5.78509359, 6.01774936, 6.00964123, 6.71834104, 6.1487877 ,\n",
       "       6.71557763, 6.57418432, 6.41732499, 5.64574424, 5.74650436,\n",
       "       5.7756183 , 5.98243529, 7.37183223, 7.0083982 , 6.91523689,\n",
       "       6.21155535, 7.1723951 , 5.6413454 , 6.70497459, 5.68672855,\n",
       "       5.60465077, 7.1747512 , 6.22657947, 6.81905868, 5.85257167,\n",
       "       6.29300471, 6.37743225, 6.63136486, 6.58616223, 6.04517485,\n",
       "       6.79489251, 6.00503478, 6.52122876, 7.06096644, 6.06424668,\n",
       "       7.34750845, 6.54887091, 6.33985159, 6.71497216, 6.40174833,\n",
       "       6.36363852, 7.69745798, 7.03774013, 6.92636394, 6.57291383,\n",
       "       6.03103377, 6.11851347, 6.20873894, 5.65793156, 6.8347367 ,\n",
       "       6.13668681, 7.16179609, 7.61130121, 6.46047614, 5.92247388,\n",
       "       6.31157524, 6.75586497, 6.08872678, 6.92109308, 6.84653818,\n",
       "       5.87697651, 6.92602415, 5.52056593, 6.55912304, 7.1301384 ,\n",
       "       6.80725908, 7.29645106, 6.09715894, 6.77799454, 6.43635456,\n",
       "       7.23511484, 7.36637542, 6.12487622, 6.8325718 , 7.26886021,\n",
       "       7.17228187, 6.59081995, 6.18034923, 6.17737851])"
      ]
     },
     "execution_count": 38,
     "metadata": {},
     "output_type": "execute_result"
    }
   ],
   "source": [
    "pred"
   ]
  },
  {
   "cell_type": "code",
   "execution_count": 39,
   "metadata": {
    "id": "BBYnI_Xhmgak"
   },
   "outputs": [],
   "source": [
    "km = KMeans(n_clusters=2)\n",
    "preds = km.fit_predict(df_data[['Engagement_score', 'Experience_score']])\n",
    "df_data['cluster']  = preds"
   ]
  },
  {
   "cell_type": "code",
   "execution_count": 40,
   "metadata": {
    "colab": {
     "base_uri": "https://localhost:8080/"
    },
    "id": "MwlxKdNuCaok",
    "outputId": "c80c6b56-73fb-45e8-de09-c2e5232c3c14"
   },
   "outputs": [
    {
     "name": "stdout",
     "output_type": "stream",
     "text": [
      "        Satisfactory_score          \n",
      "                    median      mean\n",
      "cluster                             \n",
      "0                 6.145191  6.180649\n",
      "1                 6.995635  7.033426\n",
      "        Experience_score          \n",
      "                  median      mean\n",
      "cluster                           \n",
      "0               0.226447  0.249593\n",
      "1               0.223827  0.242379\n"
     ]
    }
   ],
   "source": [
    "satisfied_per_cluster = df_data.groupby('cluster').agg({'Satisfactory_score':[\"median\",\"mean\"]})\n",
    "experienced_per_cluster = df_data.groupby('cluster').agg({'Experience_score':[\"median\",\"mean\"]})\n",
    "print(satisfied_per_cluster)\n",
    "print(experienced_per_cluster)"
   ]
  },
  {
   "cell_type": "code",
   "execution_count": 41,
   "metadata": {
    "id": "JWhIYw9JNLNR"
   },
   "outputs": [],
   "source": [
    "export = pd.DataFrame()\n",
    "export['User_id']= df_data['MSISDN']\n",
    "export['Experience_score'] = df_data['Experience_score']\n",
    "export['Engagement_score'] = df_data['Engagement_score']\n",
    "export['Satisfactory_score'] = df_data['Satisfactory_score']\n",
    "minmax_scale(export, ['Satisfactory_score'])"
   ]
  },
  {
   "cell_type": "code",
   "execution_count": 49,
   "metadata": {},
   "outputs": [
    {
     "data": {
      "text/plain": [
       "91011     1.000000\n",
       "112821    0.843752\n",
       "146672    0.797595\n",
       "121174    0.783990\n",
       "137284    0.777128\n",
       "36568     0.770282\n",
       "15713     0.741078\n",
       "13510     0.735187\n",
       "146599    0.730059\n",
       "97900     0.724557\n",
       "Name: Satisfactory_score, dtype: float64"
      ]
     },
     "execution_count": 49,
     "metadata": {},
     "output_type": "execute_result"
    }
   ],
   "source": [
    "export['Satisfactory_score'].nlargest(10)"
   ]
  },
  {
   "cell_type": "code",
   "execution_count": 42,
   "metadata": {
    "colab": {
     "base_uri": "https://localhost:8080/",
     "height": 423
    },
    "id": "Kd-6Mh1VONxV",
    "outputId": "207ec6fe-77cb-43ad-89aa-3349e33ac3a9"
   },
   "outputs": [
    {
     "data": {
      "text/html": [
       "<div>\n",
       "<style scoped>\n",
       "    .dataframe tbody tr th:only-of-type {\n",
       "        vertical-align: middle;\n",
       "    }\n",
       "\n",
       "    .dataframe tbody tr th {\n",
       "        vertical-align: top;\n",
       "    }\n",
       "\n",
       "    .dataframe thead th {\n",
       "        text-align: right;\n",
       "    }\n",
       "</style>\n",
       "<table border=\"1\" class=\"dataframe\">\n",
       "  <thead>\n",
       "    <tr style=\"text-align: right;\">\n",
       "      <th></th>\n",
       "      <th>User_id</th>\n",
       "      <th>Experience_score</th>\n",
       "      <th>Engagement_score</th>\n",
       "      <th>Satisfactory_score</th>\n",
       "    </tr>\n",
       "  </thead>\n",
       "  <tbody>\n",
       "    <tr>\n",
       "      <th>463</th>\n",
       "      <td>4.188282e+10</td>\n",
       "      <td>0.911730</td>\n",
       "      <td>0.119848</td>\n",
       "      <td>0.532570</td>\n",
       "    </tr>\n",
       "    <tr>\n",
       "      <th>478</th>\n",
       "      <td>4.188282e+10</td>\n",
       "      <td>0.066140</td>\n",
       "      <td>0.188901</td>\n",
       "      <td>0.100011</td>\n",
       "    </tr>\n",
       "    <tr>\n",
       "      <th>503</th>\n",
       "      <td>4.188282e+10</td>\n",
       "      <td>0.458738</td>\n",
       "      <td>0.479370</td>\n",
       "      <td>0.456058</td>\n",
       "    </tr>\n",
       "    <tr>\n",
       "      <th>4176</th>\n",
       "      <td>3.367433e+10</td>\n",
       "      <td>0.113893</td>\n",
       "      <td>0.801114</td>\n",
       "      <td>0.420938</td>\n",
       "    </tr>\n",
       "    <tr>\n",
       "      <th>4365</th>\n",
       "      <td>4.188282e+10</td>\n",
       "      <td>0.129511</td>\n",
       "      <td>0.667235</td>\n",
       "      <td>0.365113</td>\n",
       "    </tr>\n",
       "    <tr>\n",
       "      <th>...</th>\n",
       "      <td>...</td>\n",
       "      <td>...</td>\n",
       "      <td>...</td>\n",
       "      <td>...</td>\n",
       "    </tr>\n",
       "    <tr>\n",
       "      <th>148425</th>\n",
       "      <td>4.188282e+10</td>\n",
       "      <td>0.045073</td>\n",
       "      <td>0.477597</td>\n",
       "      <td>0.227339</td>\n",
       "    </tr>\n",
       "    <tr>\n",
       "      <th>148565</th>\n",
       "      <td>4.188282e+10</td>\n",
       "      <td>0.131932</td>\n",
       "      <td>0.440748</td>\n",
       "      <td>0.257452</td>\n",
       "    </tr>\n",
       "    <tr>\n",
       "      <th>149206</th>\n",
       "      <td>4.188282e+10</td>\n",
       "      <td>0.177351</td>\n",
       "      <td>0.548512</td>\n",
       "      <td>0.334331</td>\n",
       "    </tr>\n",
       "    <tr>\n",
       "      <th>149375</th>\n",
       "      <td>4.188282e+10</td>\n",
       "      <td>0.076832</td>\n",
       "      <td>0.732456</td>\n",
       "      <td>0.367481</td>\n",
       "    </tr>\n",
       "    <tr>\n",
       "      <th>149723</th>\n",
       "      <td>4.188282e+10</td>\n",
       "      <td>0.599388</td>\n",
       "      <td>0.035380</td>\n",
       "      <td>0.319869</td>\n",
       "    </tr>\n",
       "  </tbody>\n",
       "</table>\n",
       "<p>616 rows × 4 columns</p>\n",
       "</div>"
      ],
      "text/plain": [
       "             User_id  Experience_score  Engagement_score  Satisfactory_score\n",
       "463     4.188282e+10          0.911730          0.119848            0.532570\n",
       "478     4.188282e+10          0.066140          0.188901            0.100011\n",
       "503     4.188282e+10          0.458738          0.479370            0.456058\n",
       "4176    3.367433e+10          0.113893          0.801114            0.420938\n",
       "4365    4.188282e+10          0.129511          0.667235            0.365113\n",
       "...              ...               ...               ...                 ...\n",
       "148425  4.188282e+10          0.045073          0.477597            0.227339\n",
       "148565  4.188282e+10          0.131932          0.440748            0.257452\n",
       "149206  4.188282e+10          0.177351          0.548512            0.334331\n",
       "149375  4.188282e+10          0.076832          0.732456            0.367481\n",
       "149723  4.188282e+10          0.599388          0.035380            0.319869\n",
       "\n",
       "[616 rows x 4 columns]"
      ]
     },
     "execution_count": 42,
     "metadata": {},
     "output_type": "execute_result"
    }
   ],
   "source": [
    "export"
   ]
  },
  {
   "cell_type": "code",
   "execution_count": 43,
   "metadata": {
    "colab": {
     "base_uri": "https://localhost:8080/"
    },
    "id": "jhL0CD2QtnKz",
    "outputId": "2bd24c82-1c6c-406e-d824-bc712be6aef2"
   },
   "outputs": [],
   "source": [
    "import pymysql"
   ]
  },
  {
   "cell_type": "code",
   "execution_count": 44,
   "metadata": {
    "colab": {
     "base_uri": "https://localhost:8080/",
     "height": 527
    },
    "id": "36B8P2SHtpEW",
    "outputId": "e70efd2a-bfa4-4c60-b954-8d40c1d17f85"
   },
   "outputs": [],
   "source": [
    "connection = pymysql.connect(host='localhost', \n",
    "                             user = 'root',\n",
    "                             password = 'Timileyin52!',\n",
    "                             db = 'export')"
   ]
  },
  {
   "cell_type": "code",
   "execution_count": 45,
   "metadata": {},
   "outputs": [],
   "source": [
    "cursor = connection.cursor()"
   ]
  },
  {
   "cell_type": "code",
   "execution_count": 46,
   "metadata": {},
   "outputs": [],
   "source": [
    "cols = \"`,`\".join([str(i) for i in export.columns.tolist()])"
   ]
  },
  {
   "cell_type": "code",
   "execution_count": 47,
   "metadata": {},
   "outputs": [],
   "source": [
    "for i, row in export.iterrows():\n",
    "    sql = \"INSERT INTO `Dataframe` (`\" + cols + \"`) VALUES (\" + \"%s,\"*(len(row)-1) + \"%s)\"\n",
    "    cursor.execute(sql, tuple(row))\n",
    "    connection.commit()"
   ]
  },
  {
   "cell_type": "code",
   "execution_count": null,
   "metadata": {},
   "outputs": [],
   "source": []
  },
  {
   "cell_type": "code",
   "execution_count": null,
   "metadata": {},
   "outputs": [],
   "source": []
  }
 ],
 "metadata": {
  "colab": {
   "name": "TASK4.ipynb",
   "provenance": [],
   "toc_visible": true
  },
  "kernelspec": {
   "display_name": "Python 3",
   "language": "python",
   "name": "python3"
  },
  "language_info": {
   "codemirror_mode": {
    "name": "ipython",
    "version": 3
   },
   "file_extension": ".py",
   "mimetype": "text/x-python",
   "name": "python",
   "nbconvert_exporter": "python",
   "pygments_lexer": "ipython3",
   "version": "3.8.8"
  }
 },
 "nbformat": 4,
 "nbformat_minor": 4
}
